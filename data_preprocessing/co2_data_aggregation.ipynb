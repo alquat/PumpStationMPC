{
 "cells": [
  {
   "cell_type": "code",
   "execution_count": 183,
   "metadata": {},
   "outputs": [],
   "source": [
    "import polars as pl \n",
    "import pandas as pd \n",
    "import datetime as dt\n",
    "from entsoe import EntsoePandasClient\n",
    "import requests"
   ]
  },
  {
   "cell_type": "code",
   "execution_count": 197,
   "metadata": {},
   "outputs": [],
   "source": [
    "df = pd.read_parquet(\"data/sym_data/sym_df_1m_res_with_inflow.parquet\")"
   ]
  },
  {
   "cell_type": "code",
   "execution_count": 198,
   "metadata": {},
   "outputs": [],
   "source": [
    "df = df.set_index(\"time\").resample(\"5min\").mean()\n",
    "df.reset_index(inplace=True)"
   ]
  },
  {
   "cell_type": "code",
   "execution_count": 171,
   "metadata": {},
   "outputs": [],
   "source": [
    "start_date = df[0,0]\n",
    "end_date = df[-1,0]"
   ]
  },
  {
   "cell_type": "code",
   "execution_count": 173,
   "metadata": {},
   "outputs": [],
   "source": [
    "def get_co2_emission_data(start_date: str, end_date: str, price_area: str = \"DK2\", offset: int = 0):\n",
    "    \n",
    "\n",
    "    start_date = start_date.strftime(\"%Y-%m-%dT%H:%M\")\n",
    "    end_date = end_date.strftime(\"%Y-%m-%dT%H:%M\")\n",
    "\n",
    "    \n",
    "    url = \"https://api.energidataservice.dk/dataset/CO2EmisProg\"\n",
    "    params = {\n",
    "        \"offset\": offset,\n",
    "        \"start\": start_date,\n",
    "        \"end\": end_date,\n",
    "        \"filter\": f'{{\"PriceArea\":[\"{price_area}\"]}}',\n",
    "        \"sort\": \"PriceArea DESC\"\n",
    "    }\n",
    "    \n",
    "    response = requests.get(url, params=params)\n",
    "    \n",
    "    if response.status_code == 200:\n",
    "        return response.json()\n",
    "    else:\n",
    "        response.raise_for_status()\n",
    "\n",
    "data = get_co2_emission_data(start_date, end_date)\n"
   ]
  },
  {
   "cell_type": "code",
   "execution_count": 178,
   "metadata": {},
   "outputs": [],
   "source": [
    "emission_df = pl.DataFrame(data[\"records\"])"
   ]
  },
  {
   "cell_type": "code",
   "execution_count": 179,
   "metadata": {},
   "outputs": [],
   "source": [
    "emission_df = emission_df.with_columns(\n",
    "    pl.col(\"Minutes5UTC\").str.strptime(pl.Datetime, format=\"%Y-%m-%dT%H:%M:%S\")\n",
    "    .dt.cast_time_unit(\"ns\")\n",
    "    .dt.replace_time_zone(\"UTC\")\n",
    "    .alias(\"time\")\n",
    "    ).select([\"time\", \"PriceArea\", \"CO2Emission\"]).sort(\"time\")"
   ]
  },
  {
   "cell_type": "code",
   "execution_count": 205,
   "metadata": {},
   "outputs": [],
   "source": [
    "sym_df = pl.DataFrame(df).join(emission_df, on=\"time\", how=\"inner\")"
   ]
  },
  {
   "cell_type": "code",
   "execution_count": 217,
   "metadata": {},
   "outputs": [],
   "source": [
    "sym_df.write_csv(\"data/sym_data/sym_df_5m_res_with_co2.csv\")"
   ]
  },
  {
   "cell_type": "code",
   "execution_count": null,
   "metadata": {},
   "outputs": [],
   "source": []
  }
 ],
 "metadata": {
  "kernelspec": {
   "display_name": "mpc_env",
   "language": "python",
   "name": "python3"
  },
  "language_info": {
   "codemirror_mode": {
    "name": "ipython",
    "version": 3
   },
   "file_extension": ".py",
   "mimetype": "text/x-python",
   "name": "python",
   "nbconvert_exporter": "python",
   "pygments_lexer": "ipython3",
   "version": "3.11.7"
  }
 },
 "nbformat": 4,
 "nbformat_minor": 2
}
